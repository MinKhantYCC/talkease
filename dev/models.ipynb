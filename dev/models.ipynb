{
 "cells": [
  {
   "cell_type": "code",
   "execution_count": 1,
   "metadata": {},
   "outputs": [],
   "source": [
    "from langchain.memory import ConversationBufferMemory, ConversationSummaryBufferMemory, ConversationSummaryMemory\n",
    "from langchain_community.llms.ctransformers import CTransformers\n",
    "from langchain.prompts import PromptTemplate\n",
    "from langchain_core.messages import AIMessage, HumanMessage, SystemMessage\n",
    "from langchain.chains.api.base import LLMChain\n",
    "from langchain_community.chat_message_histories import ChatMessageHistory\n",
    "from operator import itemgetter"
   ]
  },
  {
   "cell_type": "code",
   "execution_count": 2,
   "metadata": {},
   "outputs": [
    {
     "name": "stderr",
     "output_type": "stream",
     "text": [
      "c:\\Users\\User\\AppData\\Local\\Programs\\Python\\Python312\\Lib\\site-packages\\tqdm\\auto.py:21: TqdmWarning: IProgress not found. Please update jupyter and ipywidgets. See https://ipywidgets.readthedocs.io/en/stable/user_install.html\n",
      "  from .autonotebook import tqdm as notebook_tqdm\n"
     ]
    }
   ],
   "source": [
    "llm = CTransformers(model=\"../tinyllama-1.1b-chat-v1.0.Q5_K_M.gguf\", model_type=\"Llama\", config={\n",
    "    \"temperature\": 0,\n",
    "    \"stop\": ['User', '\\nUser','\\n\\n', '\\nHuman', \"</s>\", \" Human:\"]\n",
    "})"
   ]
  },
  {
   "cell_type": "code",
   "execution_count": 11,
   "metadata": {},
   "outputs": [],
   "source": [
    "summary_prompt = PromptTemplate.from_template(\n",
    "    (\n",
    "        \"<|system|>Progressively summarize the lines of conversation provided, adding onto the previous summary returning a new summary.\\n\"\n",
    "        \"Current summary:\\n\"\n",
    "        \"{summary}</s>\\n\\n\"\n",
    "        \"<|user|>\\nNew lines of conversation:\\n\"\n",
    "        \"{new_lines}</s>\\n\\n\"\n",
    "        \"New summary:\\n\"\n",
    "    )\n",
    ")"
   ]
  },
  {
   "cell_type": "code",
   "execution_count": 12,
   "metadata": {},
   "outputs": [],
   "source": [
    "chat_history = ChatMessageHistory()\n",
    "# memory = ConversationBufferMemory(memory_key=\"history\", chat_memory=chat_history, k=3)\n",
    "# memory = ConversationSummaryBufferMemory(llm=llm, chat_memory=chat_history,) #max_token_limit=256, prompt=summary_prompt)\n",
    "memory = ConversationSummaryMemory(chat_memory=chat_history, llm=llm, prompt=summary_prompt)"
   ]
  },
  {
   "cell_type": "code",
   "execution_count": 13,
   "metadata": {},
   "outputs": [],
   "source": [
    "prompt = PromptTemplate.from_template(\n",
    "    (\n",
    "        \"This is a conversation between human and AI. Reply to the user in NO MORE THAN 30 words.\\n\"\n",
    "        \"History: {history}</s>\"\n",
    "        \"{input}</s>\\n\"\n",
    "        \"AI:\"\n",
    "    )\n",
    ")"
   ]
  },
  {
   "cell_type": "code",
   "execution_count": 14,
   "metadata": {},
   "outputs": [],
   "source": [
    "chain = LLMChain(\n",
    "    llm=llm,\n",
    "    memory=memory,\n",
    "    prompt=prompt,\n",
    ")"
   ]
  },
  {
   "cell_type": "code",
   "execution_count": 15,
   "metadata": {},
   "outputs": [
    {
     "data": {
      "text/plain": [
       "{'input': 'Hello', 'history': '', 'text': ' Hello, how are you?'}"
      ]
     },
     "execution_count": 15,
     "metadata": {},
     "output_type": "execute_result"
    }
   ],
   "source": [
    "chain.invoke(input={\n",
    "    \"input\": \"Hello\",\n",
    "})"
   ]
  },
  {
   "cell_type": "code",
   "execution_count": 16,
   "metadata": {},
   "outputs": [
    {
     "data": {
      "text/plain": [
       "{'input': \"I'm fine. Thanks for asking.\",\n",
       " 'history': \"Human: Hi, how are you doing today? AI: I'm doing great! How about you?\",\n",
       " 'text': ' So, what do you want to talk about today?'}"
      ]
     },
     "execution_count": 16,
     "metadata": {},
     "output_type": "execute_result"
    }
   ],
   "source": [
    "chain.invoke(input={\n",
    "    \"input\": \"I'm fine. Thanks for asking.\",\n",
    "})"
   ]
  },
  {
   "cell_type": "code",
   "execution_count": 17,
   "metadata": {},
   "outputs": [
    {
     "data": {
      "text/plain": [
       "{'input': 'I was reading an interesting book. It is finished now. Is there any books you would like to recommend?',\n",
       " 'history': \"Human: I'm just happy to hear that you're doing well. AI: That's great to hear! What are you up to today?\",\n",
       " 'text': ' Sure, here are some books I think you might enjoy: \"The Alchemist\" by Paulo Coelho, \"The Hitchhiker\\'s Guide to the Galaxy\" by Douglas Adams, and \"The Catcher in the Rye\" by J.D. Salinger.'}"
      ]
     },
     "execution_count": 17,
     "metadata": {},
     "output_type": "execute_result"
    }
   ],
   "source": [
    "chain.invoke(\n",
    "    {\n",
    "        \"input\": \"I was reading an interesting book. It is finished now. Is there any books you would like to recommend?\"\n",
    "    }\n",
    ")"
   ]
  },
  {
   "cell_type": "code",
   "execution_count": 18,
   "metadata": {},
   "outputs": [
    {
     "data": {
      "text/plain": [
       "{'input': 'Tell me more about the second one.',\n",
       " 'history': 'Human: That sounds interesting! Can you recommend a book that I might enjoy? AI: Sure thing! \"The Alchemist\" is a great choice for someone who loves fantasy and adventure. \"The Hitchhiker\\'s Guide to the Galaxy\" is a funny and thought-provoking read, while \"The Catcher in the Rye\" is a classic mystery novel that will keep you guessing until the end.',\n",
       " 'text': ' Sure thing! \"The Catcher in the Rye\" is a classic mystery novel by Agatha Christie. It\\'s set in a small village and features a group of amateur detectives who solve a murder case. The book is known for its clever plot twists and witty dialogue, making it a great read for fans of mystery novels.'}"
      ]
     },
     "execution_count": 18,
     "metadata": {},
     "output_type": "execute_result"
    }
   ],
   "source": [
    "chain.invoke({\n",
    "    \"input\": \"Tell me more about the second one.\"\n",
    "})"
   ]
  },
  {
   "cell_type": "code",
   "execution_count": 19,
   "metadata": {},
   "outputs": [
    {
     "data": {
      "text/plain": [
       "{'input': 'No. Not that book. I ask about the \"Guide to the Galaxy\".',\n",
       " 'history': 'Human: That sounds interesting! Can you recommend a book that I might enjoy? AI: Sure thing! \"The Catcher in the Rye\" is a classic mystery novel by Agatha Christie. It\\'s set in a small village and features a group of amateur detectives who solve a murder case. The book is known for its clever plot twists and witty dialogue, making it a great read for fans of mystery novel.',\n",
       " 'text': \" Oh, yes! That's a classic science fiction novel by Douglas Adams. It follows the adventures of a group of space travelers as they explore the universe and encounter alien life forms. The book is known for its humor, wit, and exploration of humanity's place in the cosmos. No problem there. I'll take that one!\"}"
      ]
     },
     "execution_count": 19,
     "metadata": {},
     "output_type": "execute_result"
    }
   ],
   "source": [
    "chain.invoke({\n",
    "    \"input\": \"No. Not that book. I ask about the \\\"Guide to the Galaxy\\\".\"\n",
    "})"
   ]
  }
 ],
 "metadata": {
  "kernelspec": {
   "display_name": "Python 3",
   "language": "python",
   "name": "python3"
  },
  "language_info": {
   "codemirror_mode": {
    "name": "ipython",
    "version": 3
   },
   "file_extension": ".py",
   "mimetype": "text/x-python",
   "name": "python",
   "nbconvert_exporter": "python",
   "pygments_lexer": "ipython3",
   "version": "3.12.5"
  }
 },
 "nbformat": 4,
 "nbformat_minor": 2
}
