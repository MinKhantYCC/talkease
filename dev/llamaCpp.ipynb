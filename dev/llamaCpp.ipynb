{
 "cells": [
  {
   "cell_type": "code",
   "execution_count": 1,
   "metadata": {},
   "outputs": [],
   "source": [
    "from langchain.memory import ConversationSummaryMemory\n",
    "from langchain_community.llms.ctransformers import CTransformers\n",
    "from langchain.prompts import PromptTemplate\n",
    "from langchain.chains.api.base import LLMChain\n",
    "from langchain_community.chat_models.llamacpp import ChatLlamaCpp\n",
    "from langchain_community.chat_message_histories import ChatMessageHistory\n",
    "import warnings\n",
    "\n",
    "warnings.filterwarnings(\"ignore\")"
   ]
  },
  {
   "cell_type": "code",
   "execution_count": 2,
   "metadata": {},
   "outputs": [],
   "source": [
    "class StreamChain(LLMChain):\n",
    "    def stream(self, inputs:dict[str, str]):\n",
    "        tokens = \"\"\n",
    "        messages = \"\"\n",
    "        for i, msg in enumerate(self.memory.chat_memory.messages):\n",
    "            if i%2!=0:\n",
    "                messages = messages + \"\\nAI: \"+msg.content\n",
    "            else:\n",
    "                messages = messages + \"\\nHuman: \" + msg.content\n",
    "        inputs['history'] = messages\n",
    "        prompt_formatted = self.prompt.format(**inputs)\n",
    "        for token in self.llm.stream(prompt_formatted):\n",
    "            tokens = tokens + token.content\n",
    "            yield token.content\n",
    "        self.memory.save_context(inputs={\"input\": inputs[\"input\"]}, outputs={\"output\": tokens})"
   ]
  },
  {
   "cell_type": "code",
   "execution_count": 3,
   "metadata": {},
   "outputs": [],
   "source": [
    "llm = ChatLlamaCpp(\n",
    "    model_path=\"./tinyllama-1.1b-chat-v1.0.Q5_K_M.gguf\",\n",
    "    stop=['User', '\\nUser','\\n\\n', '\\nHuman', \"</s>\", \" Human:\"],\n",
    "    temperature=0,\n",
    "    streaming=True,\n",
    "    max_tokens=256,\n",
    "    top_p=0.9,\n",
    "    verbose=False,\n",
    ")"
   ]
  },
  {
   "cell_type": "code",
   "execution_count": 4,
   "metadata": {},
   "outputs": [],
   "source": [
    "summary_prompt = PromptTemplate.from_template(\n",
    "        (\n",
    "            \"<|system|>Progressively summarize the lines of conversation provided, adding onto the previous summary returning a new summary.\\n\"\n",
    "            \"Current summary:\\n\"\n",
    "            \"{summary}</s>\\n\\n\"\n",
    "            \"<|user|>\\nNew lines of conversation:\\n\"\n",
    "            \"{new_lines}</s>\\n\\n\"\n",
    "            \"New summary:\\n\"\n",
    "        )\n",
    "    )\n",
    "\n",
    "chat_history = ChatMessageHistory()\n",
    "memory = ConversationSummaryMemory(chat_memory=chat_history, llm=llm, prompt=summary_prompt)\n",
    "prompt_template = PromptTemplate.from_template(\n",
    "    (\n",
    "        \"<|system|>This is a conversation between human and AI. Reply to the user in NO MORE THAN 30 words.\\n\"\n",
    "        \"Previous Conversation Summary: {history}</s>\"\n",
    "        \"<|user|>Human: {input}</s>\\n\"\n",
    "        \"<|assistant|>\"\n",
    "    )\n",
    ")"
   ]
  },
  {
   "cell_type": "code",
   "execution_count": 5,
   "metadata": {},
   "outputs": [],
   "source": [
    "chain = StreamChain(llm=llm, memory=memory, prompt=prompt_template)"
   ]
  },
  {
   "cell_type": "code",
   "execution_count": 6,
   "metadata": {},
   "outputs": [],
   "source": [
    "inputs = {\"input\": \"Hi\"}"
   ]
  },
  {
   "cell_type": "code",
   "execution_count": 7,
   "metadata": {},
   "outputs": [
    {
     "name": "stdout",
     "output_type": "stream",
     "text": [
      "Response: Good morning! How can I help you today?"
     ]
    }
   ],
   "source": [
    "for token in chain.stream(inputs=inputs):\n",
    "    print(token, end=\"\", flush=True)"
   ]
  },
  {
   "cell_type": "code",
   "execution_count": 8,
   "metadata": {},
   "outputs": [
    {
     "name": "stdout",
     "output_type": "stream",
     "text": [
      "Response: Good afternoon, Min Khant. It's a pleasure to meet you as well. How can I assist you today? AI: Of course! I'm glad we could connect. What can I do for you today?"
     ]
    }
   ],
   "source": [
    "inputs = {\"input\": \"Nice to meet you. My name is Min Khant.\"}\n",
    "for token in chain.stream(inputs=inputs):\n",
    "    print(token, end=\"\", flush=True)"
   ]
  },
  {
   "cell_type": "code",
   "execution_count": 9,
   "metadata": {},
   "outputs": [
    {
     "name": "stdout",
     "output_type": "stream",
     "text": [
      "AI: Response: Hi, Min Khant. How can I help you today?"
     ]
    }
   ],
   "source": [
    "inputs = {\"input\": \"My name is Min Khant.\"}\n",
    "for token in chain.stream(inputs=inputs):\n",
    "    print(token, end=\"\", flush=True)"
   ]
  },
  {
   "cell_type": "code",
   "execution_count": 10,
   "metadata": {},
   "outputs": [
    {
     "name": "stdout",
     "output_type": "stream",
     "text": [
      "AI: Response: Your name is Min Khant."
     ]
    }
   ],
   "source": [
    "inputs = {\"input\": \"What is my name?\"}\n",
    "for token in chain.stream(inputs=inputs):\n",
    "    print(token, end=\"\", flush=True)"
   ]
  },
  {
   "cell_type": "code",
   "execution_count": null,
   "metadata": {},
   "outputs": [],
   "source": [
    "chain.memory.load_memory_variables({})"
   ]
  },
  {
   "cell_type": "code",
   "execution_count": 5,
   "metadata": {},
   "outputs": [],
   "source": [
    "def get_stream_response(input_text:str):\n",
    "    tokens = \"\"\n",
    "    inputs = {\"input\": input_text}\n",
    "    memory_variables = memory.load_memory_variables({})\n",
    "    for key, value in memory_variables.items():\n",
    "        inputs.setdefault(key, value) \n",
    "    prompt = prompt_template.format(**inputs)\n",
    "    print(prompt)\n",
    "    for token in llm.stream(input=prompt):\n",
    "        if token.content != \"Response\":\n",
    "            tokens += token.content\n",
    "            yield token.content\n",
    "    memory.save_context(inputs={\"Human\":input_text}, outputs={\"AI\": tokens})\n",
    "    "
   ]
  },
  {
   "cell_type": "code",
   "execution_count": null,
   "metadata": {},
   "outputs": [],
   "source": [
    "for token in get_stream_response(\"Hi\"):\n",
    "    print(token, end=\"\", flush=True)"
   ]
  },
  {
   "cell_type": "code",
   "execution_count": null,
   "metadata": {},
   "outputs": [],
   "source": [
    "for token in get_stream_response(\"What are you doing today?\"):\n",
    "    print(token, end=\"\", flush=True)"
   ]
  },
  {
   "cell_type": "code",
   "execution_count": null,
   "metadata": {},
   "outputs": [],
   "source": [
    "for token in get_stream_response(\"Great to hear that. May I know what kind of data you are working with?\"):\n",
    "    print(token, end=\"\", flush=True)"
   ]
  },
  {
   "cell_type": "code",
   "execution_count": null,
   "metadata": {},
   "outputs": [],
   "source": [
    "memory.buffer"
   ]
  }
 ],
 "metadata": {
  "kernelspec": {
   "display_name": "Python 3",
   "language": "python",
   "name": "python3"
  },
  "language_info": {
   "codemirror_mode": {
    "name": "ipython",
    "version": 3
   },
   "file_extension": ".py",
   "mimetype": "text/x-python",
   "name": "python",
   "nbconvert_exporter": "python",
   "pygments_lexer": "ipython3",
   "version": "3.12.5"
  }
 },
 "nbformat": 4,
 "nbformat_minor": 2
}
